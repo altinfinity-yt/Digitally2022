{
  "nbformat": 4,
  "nbformat_minor": 0,
  "metadata": {
    "colab": {
      "provenance": [],
      "collapsed_sections": [
        "UfQ8tnqHQqWj"
      ],
      "authorship_tag": "ABX9TyMxGlwJ7OpTnSI4ZlTIVC/Z",
      "include_colab_link": true
    },
    "kernelspec": {
      "name": "python3",
      "display_name": "Python 3"
    },
    "language_info": {
      "name": "python"
    }
  },
  "cells": [
    {
      "cell_type": "markdown",
      "metadata": {
        "id": "view-in-github",
        "colab_type": "text"
      },
      "source": [
        "<a href=\"https://colab.research.google.com/github/altinfinity-yt/Digitally2022/blob/main/Python_Exercise_1.ipynb\" target=\"_parent\"><img src=\"https://colab.research.google.com/assets/colab-badge.svg\" alt=\"Open In Colab\"/></a>"
      ]
    },
    {
      "cell_type": "markdown",
      "source": [
        "## Lists and Tuples"
      ],
      "metadata": {
        "id": "oWYkMZPGkTlL"
      }
    },
    {
      "cell_type": "code",
      "source": [
        "movie_titles = [\n",
        "    \"Eternal Sunshine of the Spotless Mind\",\n",
        "    \"Memento\",\n",
        "    \"Requiem for a Dream\"\n",
        "]"
      ],
      "metadata": {
        "id": "AHLMRbHXkTRS"
      },
      "execution_count": 32,
      "outputs": []
    },
    {
      "cell_type": "code",
      "source": [
        "print(movie_titles)"
      ],
      "metadata": {
        "colab": {
          "base_uri": "https://localhost:8080/"
        },
        "id": "-8dRiMUwkeVj",
        "outputId": "1f08cfca-8575-4dac-8b86-33354fce6e66"
      },
      "execution_count": 35,
      "outputs": [
        {
          "output_type": "stream",
          "name": "stdout",
          "text": [
            "['Eternal Sunshine of the Spotless Mind', 'Memento', 'Requiem for a Dream']\n"
          ]
        }
      ]
    },
    {
      "cell_type": "code",
      "source": [
        "print(movie_titles[0])"
      ],
      "metadata": {
        "colab": {
          "base_uri": "https://localhost:8080/"
        },
        "id": "dIT5ZT37ksXr",
        "outputId": "947744b0-d5cd-4fec-bd3a-89d5b9e1b919"
      },
      "execution_count": 34,
      "outputs": [
        {
          "output_type": "stream",
          "name": "stdout",
          "text": [
            "Eternal Sunshine of the Spotless Mind\n"
          ]
        }
      ]
    },
    {
      "cell_type": "code",
      "source": [
        "numbers = [1, 2, 4, 5]"
      ],
      "metadata": {
        "id": "eyd-UtP7kz_V"
      },
      "execution_count": 45,
      "outputs": []
    },
    {
      "cell_type": "code",
      "source": [
        "numbers = numbers + [3]\n",
        "print(numbers)"
      ],
      "metadata": {
        "colab": {
          "base_uri": "https://localhost:8080/"
        },
        "id": "nRgjJnkOlG0a",
        "outputId": "5631d15b-0c81-4776-e546-a997378abc1a"
      },
      "execution_count": 40,
      "outputs": [
        {
          "output_type": "stream",
          "name": "stdout",
          "text": [
            "[1, 2, 4, 5, 3]\n"
          ]
        }
      ]
    },
    {
      "cell_type": "code",
      "source": [
        "numbers.append(3)\n",
        "print(numbers)"
      ],
      "metadata": {
        "colab": {
          "base_uri": "https://localhost:8080/"
        },
        "id": "BZ4b2snJlZXL",
        "outputId": "74a09506-86eb-42a8-d5ab-7f4fa2e5a759"
      },
      "execution_count": 44,
      "outputs": [
        {
          "output_type": "stream",
          "name": "stdout",
          "text": [
            "[1, 2, 4, 5, 3]\n"
          ]
        }
      ]
    },
    {
      "cell_type": "code",
      "source": [
        "numbers.insert(2, 3)\n",
        "\n",
        "print(numbers)"
      ],
      "metadata": {
        "colab": {
          "base_uri": "https://localhost:8080/"
        },
        "id": "YMbuD7k9lAsC",
        "outputId": "5b793548-3eb6-4a2c-94ae-107fcf0d802c"
      },
      "execution_count": 46,
      "outputs": [
        {
          "output_type": "stream",
          "name": "stdout",
          "text": [
            "[1, 2, 3, 4, 5]\n"
          ]
        }
      ]
    },
    {
      "cell_type": "code",
      "source": [
        "names = (\"John\", \"Sarah\", \"Alice\")\n",
        "print(names)"
      ],
      "metadata": {
        "colab": {
          "base_uri": "https://localhost:8080/"
        },
        "id": "u1syWk3mmWxN",
        "outputId": "f8506ee0-2808-453b-8859-4e661449e7c7"
      },
      "execution_count": 48,
      "outputs": [
        {
          "output_type": "stream",
          "name": "stdout",
          "text": [
            "('John', 'Sarah', 'Alice')\n"
          ]
        }
      ]
    },
    {
      "cell_type": "code",
      "source": [
        "movies = [\n",
        "    (\"Eternal Sunshine of the Spotless Mind\", 2004),\n",
        "    (\"Memento\", 2000),\n",
        "    (\"Requiem for a Dream\", 2000)\n",
        "]\n",
        "movies = movies + movies\n",
        "print(movies)\n",
        "print(movies[1][0])"
      ],
      "metadata": {
        "colab": {
          "base_uri": "https://localhost:8080/"
        },
        "id": "aro-fO-xmw1I",
        "outputId": "79666e08-f385-4dfe-c671-a560e148a29b"
      },
      "execution_count": 53,
      "outputs": [
        {
          "output_type": "stream",
          "name": "stdout",
          "text": [
            "[('Eternal Sunshine of the Spotless Mind', 2004), ('Memento', 2000), ('Requiem for a Dream', 2000), ('Eternal Sunshine of the Spotless Mind', 2004), ('Memento', 2000), ('Requiem for a Dream', 2000)]\n",
            "Memento\n"
          ]
        }
      ]
    },
    {
      "cell_type": "code",
      "source": [
        "movies = [\n",
        "    \"Eternal Sunshine of the Spotless Mind\", 2004,\n",
        "    \"Memento\", 2000,\n",
        "    \"Requiem for a Dream\", 2000\n",
        "]\n",
        "movies = movies + movies\n",
        "print(movies)\n",
        "print(movies[2])"
      ],
      "metadata": {
        "colab": {
          "base_uri": "https://localhost:8080/"
        },
        "id": "pPPzwkavnQDp",
        "outputId": "54b23ceb-4e0b-4212-ffdb-f776a2e59b3a"
      },
      "execution_count": 56,
      "outputs": [
        {
          "output_type": "stream",
          "name": "stdout",
          "text": [
            "['Eternal Sunshine of the Spotless Mind', 2004, 'Memento', 2000, 'Requiem for a Dream', 2000, 'Eternal Sunshine of the Spotless Mind', 2004, 'Memento', 2000, 'Requiem for a Dream', 2000]\n",
            "Memento\n"
          ]
        }
      ]
    },
    {
      "cell_type": "markdown",
      "source": [
        "## Exercise to do:"
      ],
      "metadata": {
        "id": "xBhZv1C6no7a"
      }
    },
    {
      "cell_type": "code",
      "source": [
        "movies = [\n",
        "    (\n",
        "        \"Eternal Sunshine of the Spotless Mind\",\n",
        "        \"Michel Gondry\",\n",
        "        2004\n",
        "    ),\n",
        "    (\n",
        "        \"Memento\",\n",
        "        \"Christopher Nolan\",\n",
        "        2000\n",
        "    ),\n",
        "    (\n",
        "        \"Requiem for a Dream\",\n",
        "        \"Darren Aronofsky\",\n",
        "        2000\n",
        "    )\n",
        "]\n",
        "\n",
        "print(movies)"
      ],
      "metadata": {
        "colab": {
          "base_uri": "https://localhost:8080/"
        },
        "id": "NBA6k5NhnP41",
        "outputId": "af798247-74ed-48d5-e577-5dbb9d008402"
      },
      "execution_count": 57,
      "outputs": [
        {
          "output_type": "stream",
          "name": "stdout",
          "text": [
            "[('Eternal Sunshine of the Spotless Mind', 'Michel Gondry', 2004), ('Memento', 'Christopher Nolan', 2000), ('Requiem for a Dream', 'Darren Aronofsky', 2000)]\n"
          ]
        }
      ]
    },
    {
      "cell_type": "code",
      "source": [
        "movie = movies[0]\n",
        "print(movie)"
      ],
      "metadata": {
        "colab": {
          "base_uri": "https://localhost:8080/"
        },
        "id": "VaLHfi6An-lK",
        "outputId": "14e33a4e-ca7b-43af-8a33-e54851e733ff"
      },
      "execution_count": 58,
      "outputs": [
        {
          "output_type": "stream",
          "name": "stdout",
          "text": [
            "('Eternal Sunshine of the Spotless Mind', 'Michel Gondry', 2004)\n"
          ]
        }
      ]
    },
    {
      "cell_type": "markdown",
      "source": [
        "## Conditionals:"
      ],
      "metadata": {
        "id": "6Chg5DpJQxOx"
      }
    },
    {
      "cell_type": "code",
      "execution_count": null,
      "metadata": {
        "colab": {
          "base_uri": "https://localhost:8080/"
        },
        "id": "zVWc4dSzBiLh",
        "outputId": "c16780fb-7b6a-4513-94c1-b22dd9571fe9"
      },
      "outputs": [
        {
          "output_type": "stream",
          "name": "stdout",
          "text": [
            "Enter a number 3\n",
            "Enter anothe number 5\n",
            "8\n"
          ]
        }
      ],
      "source": [
        "num1 = int(input('Enter a number '))\n",
        "num2 = int(input('Enter another number '))\n",
        "\n",
        "print(num1+num2)"
      ]
    },
    {
      "cell_type": "code",
      "source": [
        "prompt = input('What do you want to convert ')\n",
        "if prompt == 'temp':\n",
        "  print('This is working')\n",
        "else:\n",
        "  print('this is also working') "
      ],
      "metadata": {
        "colab": {
          "base_uri": "https://localhost:8080/"
        },
        "id": "rXuJdcazDCsE",
        "outputId": "5921d208-f3c0-4a20-d749-a23db15376e1"
      },
      "execution_count": null,
      "outputs": [
        {
          "output_type": "stream",
          "name": "stdout",
          "text": [
            "What do you want to convert temp\n",
            "This is working\n"
          ]
        }
      ]
    },
    {
      "cell_type": "code",
      "source": [
        "age = int(input(\"How old are you? \"))\n",
        "\n",
        "if age < 16:\n",
        "      print(\"You are eligible for the child rate of 80p.\")\n",
        "elif age >= 60:\n",
        "      print(\"You are eligible for the OAP rate of £1.\")\n",
        "else:\n",
        "      print(\"You must pay the standard rate of £1.50.\")"
      ],
      "metadata": {
        "colab": {
          "base_uri": "https://localhost:8080/"
        },
        "id": "-WoDnYtnjSgL",
        "outputId": "d52b6175-1ce0-4583-f11d-edfd60b4c708"
      },
      "execution_count": null,
      "outputs": [
        {
          "output_type": "stream",
          "name": "stdout",
          "text": [
            "How old are you? 16\n",
            "You must pay the standard rate of £1.50.\n"
          ]
        }
      ]
    },
    {
      "cell_type": "markdown",
      "source": [
        "## Exercise to do: "
      ],
      "metadata": {
        "id": "qGdYaEPkQSBU"
      }
    },
    {
      "cell_type": "code",
      "source": [
        "prompt = input('What do you want to convert ')\n",
        "if prompt == 'temp':\n",
        "  q1 = input ('celcius or farhenhiet? ')\n",
        "  if q1 == 'celcius':\n",
        "    num_1 = int(input('Enter the temperature in Celcius'))\n",
        "    num_2 = ((num_1 * (9/5))+32)\n",
        "    print('The temp in F is'+' '+ str(num_2))\n",
        "  else:\n",
        "    num_1 = int(input('Enter the temperature in Farhenheit '))\n",
        "    num_2 = ((num_1 - 32)*(5/9))\n",
        "    print(\"The temp in F is\", num_2)\n",
        "elif prompt == 'length':\n",
        "  num_3 = int(input('Enter the length in m '))\n",
        "  num_4 = num_3 * 39.37\n",
        "  print(num_4)"
      ],
      "metadata": {
        "colab": {
          "base_uri": "https://localhost:8080/"
        },
        "id": "TR9O0_zdEAEH",
        "outputId": "7a9b79ae-b60f-47e8-b01e-2035acfd8208"
      },
      "execution_count": null,
      "outputs": [
        {
          "output_type": "stream",
          "name": "stdout",
          "text": [
            "What do you want to convert temp\n",
            "celcius or farhenhiet? f\n",
            "Enter the temperature in Farhenheit 0\n",
            "The temp in F is -17.77777777777778\n"
          ]
        }
      ]
    },
    {
      "cell_type": "markdown",
      "source": [
        "## Loops 1:"
      ],
      "metadata": {
        "id": "UfQ8tnqHQqWj"
      }
    },
    {
      "cell_type": "code",
      "source": [
        "movies = [\n",
        "    (\n",
        "        \"Eternal Sunshine of the Spotless Mind\",\n",
        "        \"Michel Gondry\",\n",
        "        2004\n",
        "    ),\n",
        "    (\n",
        "        \"Memento\",\n",
        "        \"Christopher Nolan\",\n",
        "        2000\n",
        "    ),\n",
        "    (\n",
        "        \"Requiem for a Dream\",\n",
        "        \"Darren Aronofsky\",\n",
        "        2000\n",
        "    )\n",
        "]\n",
        "\n",
        "print(f\"{movies[0][0]} ({movies[0][2]}), by {movies[0][1]}\")\n",
        "print(f\"{movies[1][0]} ({movies[1][2]}), by {movies[1][1]}\")\n",
        "print(f\"{movies[2][0]} ({movies[2][2]}), by {movies[2][1]}\")"
      ],
      "metadata": {
        "colab": {
          "base_uri": "https://localhost:8080/"
        },
        "id": "6QLk9HAtok_0",
        "outputId": "d0bfa173-a76c-4e00-a1f5-1db265bc5211"
      },
      "execution_count": 59,
      "outputs": [
        {
          "output_type": "stream",
          "name": "stdout",
          "text": [
            "Eternal Sunshine of the Spotless Mind (2004), by Michel Gondry\n",
            "Memento (2000), by Christopher Nolan\n",
            "Requiem for a Dream (2000), by Darren Aronofsky\n"
          ]
        }
      ]
    },
    {
      "cell_type": "code",
      "source": [
        "movie = movies[0]\n",
        "print(f\"{movie[0]} ({movie[2]}), by {movie[1]}\")\n",
        "\n",
        "movie = movies[1]\n",
        "print(f\"{movie[0]} ({movie[2]}), by {movie[1]}\")\n",
        "\n",
        "movie = movies[2]\n",
        "print(f\"{movie[0]} ({movie[2]}), by {movie[1]}\")"
      ],
      "metadata": {
        "colab": {
          "base_uri": "https://localhost:8080/"
        },
        "id": "NHskeZjtpoJz",
        "outputId": "ffea30b8-3d16-4b8d-a899-2ccca2a1730c"
      },
      "execution_count": 60,
      "outputs": [
        {
          "output_type": "stream",
          "name": "stdout",
          "text": [
            "Eternal Sunshine of the Spotless Mind (2004), by Michel Gondry\n",
            "Memento (2000), by Christopher Nolan\n",
            "Requiem for a Dream (2000), by Darren Aronofsky\n"
          ]
        }
      ]
    },
    {
      "cell_type": "code",
      "source": [
        "for movie in movies:\n",
        "      print(f\"{movie[0]} ({movie[2]}), by {movie[1]}\")"
      ],
      "metadata": {
        "colab": {
          "base_uri": "https://localhost:8080/"
        },
        "id": "fvLPzleRptTv",
        "outputId": "b95c882f-efe7-49a5-c002-d546499d0225"
      },
      "execution_count": 61,
      "outputs": [
        {
          "output_type": "stream",
          "name": "stdout",
          "text": [
            "Eternal Sunshine of the Spotless Mind (2004), by Michel Gondry\n",
            "Memento (2000), by Christopher Nolan\n",
            "Requiem for a Dream (2000), by Darren Aronofsky\n"
          ]
        }
      ]
    },
    {
      "cell_type": "code",
      "source": [
        "for movie in movies:\n",
        "      # Check the title of the current movie is Memento\n",
        "      if movie[0] == \"Memento\":\n",
        "            # If the title is Memento, inform the user that the movie exists and break the loop\n",
        "            print(\"Memento is in the movie library!\")\n",
        "            break"
      ],
      "metadata": {
        "colab": {
          "base_uri": "https://localhost:8080/"
        },
        "id": "QmVmOgHDp7Cf",
        "outputId": "06776dc9-f95f-4c2d-ae96-a4aa58e99bea"
      },
      "execution_count": 62,
      "outputs": [
        {
          "output_type": "stream",
          "name": "stdout",
          "text": [
            "Memento is in the movie library!\n"
          ]
        }
      ]
    },
    {
      "cell_type": "code",
      "source": [
        "for number in range(10):\n",
        "    print(number)"
      ],
      "metadata": {
        "colab": {
          "base_uri": "https://localhost:8080/"
        },
        "id": "i9XmsGOqqKYw",
        "outputId": "5987b293-c40a-497d-b988-509276ff3876"
      },
      "execution_count": 63,
      "outputs": [
        {
          "output_type": "stream",
          "name": "stdout",
          "text": [
            "0\n",
            "1\n",
            "2\n",
            "3\n",
            "4\n",
            "5\n",
            "6\n",
            "7\n",
            "8\n",
            "9\n"
          ]
        }
      ]
    },
    {
      "cell_type": "code",
      "source": [
        "for number in range(5):\n",
        "    print(\"Hello World\")"
      ],
      "metadata": {
        "colab": {
          "base_uri": "https://localhost:8080/"
        },
        "id": "tj7Rbf9XqU2y",
        "outputId": "7eef1ed4-447d-4bf5-d633-b5343e063db1"
      },
      "execution_count": 66,
      "outputs": [
        {
          "output_type": "stream",
          "name": "stdout",
          "text": [
            "Hello World\n",
            "Hello World\n",
            "Hello World\n",
            "Hello World\n",
            "Hello World\n"
          ]
        }
      ]
    },
    {
      "cell_type": "markdown",
      "source": [
        "## Exercise to do:"
      ],
      "metadata": {
        "id": "ot35YVS-qvyf"
      }
    },
    {
      "cell_type": "code",
      "source": [
        "employees = [\n",
        "    (\"Rolf Smith\", 35, 8.75),\n",
        "    (\"Anne Pun\", 30, 12.50),\n",
        "    (\"Charlie Lee\", 50, 15.50),\n",
        "    (\"Bob Smith\", 20, 7.00)\n",
        "]"
      ],
      "metadata": {
        "id": "NjdgLoQgqtjZ"
      },
      "execution_count": 67,
      "outputs": []
    },
    {
      "cell_type": "code",
      "source": [
        "total_pay = 0\n",
        "for employee in employees:\n",
        "    total_pay = employee[1] * employee[2]\n",
        "    print(f\"{employee[0]} has to be paid £{total_pay}\")"
      ],
      "metadata": {
        "colab": {
          "base_uri": "https://localhost:8080/"
        },
        "id": "GhUEKd5Rquvt",
        "outputId": "64f77d93-a905-4940-c52f-95eae49062a8"
      },
      "execution_count": 69,
      "outputs": [
        {
          "output_type": "stream",
          "name": "stdout",
          "text": [
            "Rolf Smith has to be paid £306.25\n",
            "Anne Pun has to be paid £375.0\n",
            "Charlie Lee has to be paid £775.0\n",
            "Bob Smith has to be paid £140.0\n"
          ]
        }
      ]
    },
    {
      "cell_type": "markdown",
      "source": [
        "## Loops 2: "
      ],
      "metadata": {
        "id": "dZlXtaAUrJIy"
      }
    },
    {
      "cell_type": "code",
      "source": [
        "n = 1\n",
        "\n",
        "while n < 5:\n",
        "    print(\"Hello World\")\n",
        "    n = n+1"
      ],
      "metadata": {
        "colab": {
          "base_uri": "https://localhost:8080/"
        },
        "id": "NxDZlTWTLKhO",
        "outputId": "88b8e0b3-90a3-447e-ca7b-bae15893b88c"
      },
      "execution_count": null,
      "outputs": [
        {
          "output_type": "stream",
          "name": "stdout",
          "text": [
            "Hello World\n",
            "Hello World\n",
            "Hello World\n",
            "Hello World\n"
          ]
        }
      ]
    },
    {
      "cell_type": "code",
      "source": [
        "n = 1\n",
        "\n",
        "while n < 5:\n",
        "    print(\"Hello World\")\n",
        "    n = n+1\n",
        "    if n == 3:\n",
        "        break"
      ],
      "metadata": {
        "colab": {
          "base_uri": "https://localhost:8080/"
        },
        "id": "reVeUcwTLnU4",
        "outputId": "bcd1b939-cc0a-46ce-cc99-221f6c83f9fb"
      },
      "execution_count": null,
      "outputs": [
        {
          "output_type": "stream",
          "name": "stdout",
          "text": [
            "Hello World\n",
            "Hello World\n"
          ]
        }
      ]
    },
    {
      "cell_type": "code",
      "source": [
        "n = 1\n",
        "\n",
        "while n < 5:\n",
        "    if n == 2:\n",
        "        n = n+1\n",
        "        continue\n",
        "    print(\"Hello World\")\n",
        "    n = n+1"
      ],
      "metadata": {
        "colab": {
          "base_uri": "https://localhost:8080/"
        },
        "id": "xIQBQT7bMGP6",
        "outputId": "b9d4e18f-e8f7-4d8d-84a9-78d89df53897"
      },
      "execution_count": null,
      "outputs": [
        {
          "output_type": "stream",
          "name": "stdout",
          "text": [
            "Hello World\n",
            "Hello World\n",
            "Hello World\n"
          ]
        }
      ]
    },
    {
      "cell_type": "code",
      "source": [
        "z = 0\n",
        "\n",
        "while z < 3:\n",
        "    if z == 0:\n",
        "        print(\"z is\",z)\n",
        "        z += 1\n",
        "    elif z == 1:\n",
        "        print(\"z is\",z)\n",
        "        z += 1\n",
        "    else:\n",
        "        print(\"z is\",z)\n",
        "        z += 1"
      ],
      "metadata": {
        "colab": {
          "base_uri": "https://localhost:8080/"
        },
        "id": "irzx3drSMLXm",
        "outputId": "ca201aef-fcf2-4920-d48f-375b58421b6d"
      },
      "execution_count": null,
      "outputs": [
        {
          "output_type": "stream",
          "name": "stdout",
          "text": [
            "z is 0\n",
            "z is 1\n",
            "z is 2\n"
          ]
        }
      ]
    },
    {
      "cell_type": "code",
      "source": [
        "i = 0 \n",
        "word = \"Hello\"\n",
        "\n",
        "#print all letters except e and o\n",
        "\n",
        "while i < len(word):\n",
        "    if word[i] == \"e\" or word[i] ==\"o\":\n",
        "        i += 1\n",
        "        continue\n",
        "\n",
        "    print(\"Returned letter\",word[i])\n",
        "    i += 1"
      ],
      "metadata": {
        "colab": {
          "base_uri": "https://localhost:8080/"
        },
        "id": "PEdD7xNnNLwP",
        "outputId": "8481c6ee-f860-48c8-d955-d87d3dcb5644"
      },
      "execution_count": null,
      "outputs": [
        {
          "output_type": "stream",
          "name": "stdout",
          "text": [
            "Returned letter H\n",
            "Returned letter l\n",
            "Returned letter l\n"
          ]
        }
      ]
    },
    {
      "cell_type": "code",
      "source": [
        "p = 5\n",
        "sum = 0\n",
        "count = 0\n",
        "\n",
        "while p > 0:\n",
        "    count += 1\n",
        "    f = int(input(\"Enter the number \"))\n",
        "    sum += f\n",
        "    p -= 1\n",
        "  \n",
        "average = sum/count\n",
        "print(\"Average of given Numbers:\",average)"
      ],
      "metadata": {
        "colab": {
          "base_uri": "https://localhost:8080/"
        },
        "id": "r5-zq0uyNbCn",
        "outputId": "3483a4ce-d0eb-4b52-9f97-136c5b490a47"
      },
      "execution_count": null,
      "outputs": [
        {
          "output_type": "stream",
          "name": "stdout",
          "text": [
            "Enter the number 5\n",
            "Enter the number 5\n",
            "Enter the number 5\n",
            "Enter the number 5\n",
            "Enter the number 5\n",
            "Average of given Numbers: 5.0\n"
          ]
        }
      ]
    },
    {
      "cell_type": "code",
      "source": [
        "n = 1\n",
        "\n",
        "while n <= 5:\n",
        "    squareNum = n**2\n",
        "    print(n,squareNum)\n",
        "    n += 1"
      ],
      "metadata": {
        "colab": {
          "base_uri": "https://localhost:8080/"
        },
        "id": "n9rTxDR8OQD6",
        "outputId": "fa0e1603-2d6d-4efa-f4a6-1686f634cf66"
      },
      "execution_count": null,
      "outputs": [
        {
          "output_type": "stream",
          "name": "stdout",
          "text": [
            "1 1\n",
            "2 4\n",
            "3 9\n",
            "4 16\n",
            "5 25\n"
          ]
        }
      ]
    },
    {
      "cell_type": "markdown",
      "source": [
        "## Exercises to do:"
      ],
      "metadata": {
        "id": "wCiSbB7kQIcp"
      }
    },
    {
      "cell_type": "code",
      "source": [
        "n = int(input(\"Enter a number: \"))\n",
        "rev = 0\n",
        "\n",
        "while n!=0:\n",
        "    r = n%10\n",
        "    rev = rev * 10 + r\n",
        "    n = n//10\n",
        "    \n",
        "print(\"Reversed number:\",rev)"
      ],
      "metadata": {
        "colab": {
          "base_uri": "https://localhost:8080/"
        },
        "id": "pRWjaMhnO0OI",
        "outputId": "2ceeaab9-de41-4168-dcab-d60ac40de32d"
      },
      "execution_count": null,
      "outputs": [
        {
          "output_type": "stream",
          "name": "stdout",
          "text": [
            "Enter a number: 768\n",
            "Reversed number: 867\n"
          ]
        }
      ]
    },
    {
      "cell_type": "code",
      "source": [
        "i = 0\n",
        "sum = 0\n",
        "n = int(input(\"Enter the number n: \"))\n",
        "\n",
        "while  i <= n:\n",
        "    if i % 2 == 0:\n",
        "        sum += i\n",
        "    i += 1\n",
        "        \n",
        "print(\"Sum of even numbers till n:\",sum)"
      ],
      "metadata": {
        "colab": {
          "base_uri": "https://localhost:8080/"
        },
        "id": "LQz82Tl7P08v",
        "outputId": "c2b0391c-a453-4740-c75e-1cca0c0ee0a8"
      },
      "execution_count": null,
      "outputs": [
        {
          "output_type": "stream",
          "name": "stdout",
          "text": [
            "Enter the number n: 5\n",
            "Sum of even numbers till n: 6\n"
          ]
        }
      ]
    },
    {
      "cell_type": "code",
      "source": [
        "n = int(input(\"Enter the number: \"))\n",
        "f =n\n",
        "r = 1\n",
        "\n",
        "while f != 0 :\n",
        "    r *= f \n",
        "    f -= 1\n",
        "print(\"Factorial of\",n,\"is:\",r)"
      ],
      "metadata": {
        "colab": {
          "base_uri": "https://localhost:8080/"
        },
        "id": "-R-HXOXXP6Sj",
        "outputId": "dcea82b1-540f-4eee-8a64-f668f4f6f3bf"
      },
      "execution_count": null,
      "outputs": [
        {
          "output_type": "stream",
          "name": "stdout",
          "text": [
            "Enter the number: 4\n",
            "Factorial of 4 is: 24\n"
          ]
        }
      ]
    },
    {
      "cell_type": "code",
      "source": [],
      "metadata": {
        "id": "lPzA7laHrX_C"
      },
      "execution_count": null,
      "outputs": []
    }
  ]
}