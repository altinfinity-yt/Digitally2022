{
  "nbformat": 4,
  "nbformat_minor": 0,
  "metadata": {
    "colab": {
      "provenance": [],
      "authorship_tag": "ABX9TyMNrW0aqwX2oVN5LyU//B6S",
      "include_colab_link": true
    },
    "kernelspec": {
      "name": "python3",
      "display_name": "Python 3"
    },
    "language_info": {
      "name": "python"
    }
  },
  "cells": [
    {
      "cell_type": "markdown",
      "metadata": {
        "id": "view-in-github",
        "colab_type": "text"
      },
      "source": [
        "<a href=\"https://colab.research.google.com/github/altinfinity-yt/Digitally2022/blob/main/Python_Exercise_1.ipynb\" target=\"_parent\"><img src=\"https://colab.research.google.com/assets/colab-badge.svg\" alt=\"Open In Colab\"/></a>"
      ]
    },
    {
      "cell_type": "markdown",
      "source": [
        "## Follow Along 1:"
      ],
      "metadata": {
        "id": "6Chg5DpJQxOx"
      }
    },
    {
      "cell_type": "code",
      "execution_count": null,
      "metadata": {
        "colab": {
          "base_uri": "https://localhost:8080/"
        },
        "id": "zVWc4dSzBiLh",
        "outputId": "c16780fb-7b6a-4513-94c1-b22dd9571fe9"
      },
      "outputs": [
        {
          "output_type": "stream",
          "name": "stdout",
          "text": [
            "Enter a number 3\n",
            "Enter anothe number 5\n",
            "8\n"
          ]
        }
      ],
      "source": [
        "num1 = int(input('Enter a number '))\n",
        "num2 = int(input('Enter another number '))\n",
        "\n",
        "print(num1+num2)"
      ]
    },
    {
      "cell_type": "code",
      "source": [
        "prompt = input('What do you want to convert ')\n",
        "if prompt == 'temp':\n",
        "  print('This is working')\n",
        "else:\n",
        "  print('this is also working') "
      ],
      "metadata": {
        "colab": {
          "base_uri": "https://localhost:8080/"
        },
        "id": "rXuJdcazDCsE",
        "outputId": "5921d208-f3c0-4a20-d749-a23db15376e1"
      },
      "execution_count": null,
      "outputs": [
        {
          "output_type": "stream",
          "name": "stdout",
          "text": [
            "What do you want to convert temp\n",
            "This is working\n"
          ]
        }
      ]
    },
    {
      "cell_type": "markdown",
      "source": [
        "## Exercise to do: "
      ],
      "metadata": {
        "id": "qGdYaEPkQSBU"
      }
    },
    {
      "cell_type": "code",
      "source": [
        "prompt = input('What do you want to convert ')\n",
        "if prompt == 'temp':\n",
        "  q1 = input ('celcius or farhenhiet? ')\n",
        "  if q1 == 'celcius':\n",
        "    num_1 = int(input('Enter the temperature in Celcius'))\n",
        "    num_2 = ((num_1 * (9/5))+32)\n",
        "    print('The temp in F is'+' '+ str(num_2))\n",
        "  else:\n",
        "    num_1 = int(input('Enter the temperature in Farhenheit '))\n",
        "    num_2 = ((num_1 - 32)*(5/9))\n",
        "    print(\"The temp in F is\", num_2)\n",
        "elif prompt == 'length':\n",
        "  num_3 = int(input('Enter the length in m '))\n",
        "  num_4 = num_3 * 39.37\n",
        "  print(num_4)"
      ],
      "metadata": {
        "colab": {
          "base_uri": "https://localhost:8080/"
        },
        "id": "TR9O0_zdEAEH",
        "outputId": "7a9b79ae-b60f-47e8-b01e-2035acfd8208"
      },
      "execution_count": null,
      "outputs": [
        {
          "output_type": "stream",
          "name": "stdout",
          "text": [
            "What do you want to convert temp\n",
            "celcius or farhenhiet? f\n",
            "Enter the temperature in Farhenheit 0\n",
            "The temp in F is -17.77777777777778\n"
          ]
        }
      ]
    },
    {
      "cell_type": "markdown",
      "source": [
        "## Follow Along 2:"
      ],
      "metadata": {
        "id": "UfQ8tnqHQqWj"
      }
    },
    {
      "cell_type": "code",
      "source": [
        "n = 1\n",
        "\n",
        "while n < 5:\n",
        "    print(\"Hello World\")\n",
        "    n = n+1"
      ],
      "metadata": {
        "colab": {
          "base_uri": "https://localhost:8080/"
        },
        "id": "NxDZlTWTLKhO",
        "outputId": "88b8e0b3-90a3-447e-ca7b-bae15893b88c"
      },
      "execution_count": null,
      "outputs": [
        {
          "output_type": "stream",
          "name": "stdout",
          "text": [
            "Hello World\n",
            "Hello World\n",
            "Hello World\n",
            "Hello World\n"
          ]
        }
      ]
    },
    {
      "cell_type": "code",
      "source": [
        "n = 1\n",
        "\n",
        "while n < 5:\n",
        "    print(\"Hello World\")\n",
        "    n = n+1\n",
        "    if n == 3:\n",
        "        break"
      ],
      "metadata": {
        "colab": {
          "base_uri": "https://localhost:8080/"
        },
        "id": "reVeUcwTLnU4",
        "outputId": "bcd1b939-cc0a-46ce-cc99-221f6c83f9fb"
      },
      "execution_count": null,
      "outputs": [
        {
          "output_type": "stream",
          "name": "stdout",
          "text": [
            "Hello World\n",
            "Hello World\n"
          ]
        }
      ]
    },
    {
      "cell_type": "code",
      "source": [
        "n = 1\n",
        "\n",
        "while n < 5:\n",
        "    if n == 2:\n",
        "        n = n+1\n",
        "        continue\n",
        "    print(\"Hello World\")\n",
        "    n = n+1"
      ],
      "metadata": {
        "colab": {
          "base_uri": "https://localhost:8080/"
        },
        "id": "xIQBQT7bMGP6",
        "outputId": "b9d4e18f-e8f7-4d8d-84a9-78d89df53897"
      },
      "execution_count": null,
      "outputs": [
        {
          "output_type": "stream",
          "name": "stdout",
          "text": [
            "Hello World\n",
            "Hello World\n",
            "Hello World\n"
          ]
        }
      ]
    },
    {
      "cell_type": "code",
      "source": [
        "z = 0\n",
        "\n",
        "while z < 3:\n",
        "    if z == 0:\n",
        "        print(\"z is\",z)\n",
        "        z += 1\n",
        "    elif z == 1:\n",
        "        print(\"z is\",z)\n",
        "        z += 1\n",
        "    else:\n",
        "        print(\"z is\",z)\n",
        "        z += 1"
      ],
      "metadata": {
        "colab": {
          "base_uri": "https://localhost:8080/"
        },
        "id": "irzx3drSMLXm",
        "outputId": "ca201aef-fcf2-4920-d48f-375b58421b6d"
      },
      "execution_count": null,
      "outputs": [
        {
          "output_type": "stream",
          "name": "stdout",
          "text": [
            "z is 0\n",
            "z is 1\n",
            "z is 2\n"
          ]
        }
      ]
    },
    {
      "cell_type": "code",
      "source": [
        "i = 0 \n",
        "word = \"Hello\"\n",
        "\n",
        "#print all letters except e and o\n",
        "\n",
        "while i < len(word):\n",
        "    if word[i] == \"e\" or word[i] ==\"o\":\n",
        "        i += 1\n",
        "        continue\n",
        "\n",
        "    print(\"Returned letter\",word[i])\n",
        "    i += 1"
      ],
      "metadata": {
        "colab": {
          "base_uri": "https://localhost:8080/"
        },
        "id": "PEdD7xNnNLwP",
        "outputId": "8481c6ee-f860-48c8-d955-d87d3dcb5644"
      },
      "execution_count": null,
      "outputs": [
        {
          "output_type": "stream",
          "name": "stdout",
          "text": [
            "Returned letter H\n",
            "Returned letter l\n",
            "Returned letter l\n"
          ]
        }
      ]
    },
    {
      "cell_type": "code",
      "source": [
        "p = 5\n",
        "sum = 0\n",
        "count = 0\n",
        "\n",
        "while p > 0:\n",
        "    count += 1\n",
        "    f = int(input(\"Enter the number \"))\n",
        "    sum += f\n",
        "    p -= 1\n",
        "  \n",
        "average = sum/count\n",
        "print(\"Average of given Numbers:\",average)"
      ],
      "metadata": {
        "colab": {
          "base_uri": "https://localhost:8080/"
        },
        "id": "r5-zq0uyNbCn",
        "outputId": "3483a4ce-d0eb-4b52-9f97-136c5b490a47"
      },
      "execution_count": null,
      "outputs": [
        {
          "output_type": "stream",
          "name": "stdout",
          "text": [
            "Enter the number 5\n",
            "Enter the number 5\n",
            "Enter the number 5\n",
            "Enter the number 5\n",
            "Enter the number 5\n",
            "Average of given Numbers: 5.0\n"
          ]
        }
      ]
    },
    {
      "cell_type": "code",
      "source": [
        "n = 1\n",
        "\n",
        "while n <= 5:\n",
        "    squareNum = n**2\n",
        "    print(n,squareNum)\n",
        "    n += 1"
      ],
      "metadata": {
        "colab": {
          "base_uri": "https://localhost:8080/"
        },
        "id": "n9rTxDR8OQD6",
        "outputId": "fa0e1603-2d6d-4efa-f4a6-1686f634cf66"
      },
      "execution_count": null,
      "outputs": [
        {
          "output_type": "stream",
          "name": "stdout",
          "text": [
            "1 1\n",
            "2 4\n",
            "3 9\n",
            "4 16\n",
            "5 25\n"
          ]
        }
      ]
    },
    {
      "cell_type": "markdown",
      "source": [
        "## Exercises to do:"
      ],
      "metadata": {
        "id": "wCiSbB7kQIcp"
      }
    },
    {
      "cell_type": "code",
      "source": [
        "n = int(input(\"Enter a number: \"))\n",
        "rev = 0\n",
        "\n",
        "while n!=0:\n",
        "    r = n%10\n",
        "    rev = rev * 10 + r\n",
        "    n = n//10\n",
        "    \n",
        "print(\"Reversed number:\",rev)"
      ],
      "metadata": {
        "colab": {
          "base_uri": "https://localhost:8080/"
        },
        "id": "pRWjaMhnO0OI",
        "outputId": "2ceeaab9-de41-4168-dcab-d60ac40de32d"
      },
      "execution_count": null,
      "outputs": [
        {
          "output_type": "stream",
          "name": "stdout",
          "text": [
            "Enter a number: 768\n",
            "Reversed number: 867\n"
          ]
        }
      ]
    },
    {
      "cell_type": "code",
      "source": [
        "i = 0\n",
        "sum = 0\n",
        "n = int(input(\"Enter the number n: \"))\n",
        "\n",
        "while  i <= n:\n",
        "    if i % 2 == 0:\n",
        "        sum += i\n",
        "    i += 1\n",
        "        \n",
        "print(\"Sum of even numbers till n:\",sum)"
      ],
      "metadata": {
        "colab": {
          "base_uri": "https://localhost:8080/"
        },
        "id": "LQz82Tl7P08v",
        "outputId": "c2b0391c-a453-4740-c75e-1cca0c0ee0a8"
      },
      "execution_count": null,
      "outputs": [
        {
          "output_type": "stream",
          "name": "stdout",
          "text": [
            "Enter the number n: 5\n",
            "Sum of even numbers till n: 6\n"
          ]
        }
      ]
    },
    {
      "cell_type": "code",
      "source": [
        "n = int(input(\"Enter the number: \"))\n",
        "f =n\n",
        "r = 1\n",
        "\n",
        "while f != 0 :\n",
        "    r *= f \n",
        "    f -= 1\n",
        "print(\"Factorial of\",n,\"is:\",r)"
      ],
      "metadata": {
        "colab": {
          "base_uri": "https://localhost:8080/"
        },
        "id": "-R-HXOXXP6Sj",
        "outputId": "dcea82b1-540f-4eee-8a64-f668f4f6f3bf"
      },
      "execution_count": null,
      "outputs": [
        {
          "output_type": "stream",
          "name": "stdout",
          "text": [
            "Enter the number: 4\n",
            "Factorial of 4 is: 24\n"
          ]
        }
      ]
    }
  ]
}